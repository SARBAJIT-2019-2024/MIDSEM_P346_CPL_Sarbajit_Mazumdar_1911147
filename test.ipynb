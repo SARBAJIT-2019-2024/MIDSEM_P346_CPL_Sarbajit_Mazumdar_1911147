{
 "cells": [
  {
   "cell_type": "code",
   "execution_count": 26,
   "source": [
    "#Answer\r\n",
    "#Question 1\r\n",
    "# We will solve this Question using the Newton-Rhapson Method, to a precision of 10^(-4) #sarbajitmazumdar_1911147\r\n",
    "#For some reason github is not recognising the latex but anyway I have shown that in pdf, Here I deleted the question part which I wrote in latex for \r\n",
    "#for presentation purpose only. the answer parts are intact.\r\n",
    "\r\n",
    "from My_Lib import *\r\n",
    "\r\n",
    "import math\r\n",
    "\r\n",
    "def f(x):\r\n",
    "    return (x-5)*math.exp(x)+5   #Given Function for calculating wien's constant\r\n",
    "\r\n",
    "root_val,a,b=Newton_Raphson_Method(f,10,10**(-4))#calling Newton Rhapson method,precision=10^(-4)\r\n",
    "\r\n",
    "print(\"The value of the Wien's constant is b = hc/kx =\", 6.626*10**(-34)*3*10**8/(1.381*10**(-23)*root_val),\"m-Kelvin\") #printing the result\r\n"
   ],
   "outputs": [
    {
     "output_type": "stream",
     "name": "stdout",
     "text": [
      "The value of the Wien's constant is b = hc/kx = 0.0028990007255452407 m-Kelvin\n"
     ]
    }
   ],
   "metadata": {}
  },
  {
   "cell_type": "code",
   "execution_count": 39,
   "source": [
    "#Question 2\r\n",
    "\r\n",
    "# Printing the matrix in a readable form \r\n",
    "list_C=[]\r\n",
    "with open(\"matrix1.txt\") as matC:\r\n",
    "    for k in matC:\r\n",
    "        list_C.append(list(map(float, k.split())))\r\n",
    "\r\n",
    "#Condition for inverse exists or not\r\n",
    "det=determinant_calc(list_C)\r\n",
    "if det==0:\r\n",
    "    print(\"Inverse doesn't exist !\")\r\n",
    "else:\r\n",
    "    print(\"Determinant is \", det,\",Which is not equal to zero, Hence inverse exists!\")\r\n",
    "#using the Gauss jordan function\r\n",
    "a,b=Gauss_jordan(list_C)\r\n",
    "print(\"\\nThe Inverse of the given matrix is A[-1]:\")\r\n",
    "\r\n",
    "# Print the inverse matrix in readable form #SARBAJIT MAZUMDAR_1911147\r\n",
    "for i in range(len(b)):\r\n",
    "    for j in range(len(b)):\r\n",
    "        print(\"%.2f\"%b[i][j],end =' ') #each element of the matrix is rounded upto 2 places of decimal\r\n",
    "    print()    \r\n",
    "\r\n",
    "\r\n",
    "##VERIFICATION PART    \r\n",
    "print(\"\\n Verification of A*A[-1] = I(Identity matrix)\")\r\n",
    "\r\n",
    "list_d=matrix_mul(list_C,b)\r\n",
    "for i in range(len(list_d)):\r\n",
    "    for j in range(len(list_d)):\r\n",
    "        print(\"%.2f\"%list_d[i][j],end =' ') #each element of the matrix is rounded upto 2 places of decimal\r\n",
    "    print()\r\n",
    "\r\n",
    "print(\"Hence Inverse exists and verified!\")    "
   ],
   "outputs": [
    {
     "output_type": "stream",
     "name": "stdout",
     "text": [
      "Determinant is  120.0 ,Which is not equal to zero, Hence inverse exists!\n",
      "\n",
      "The Inverse of the given matrix is A[-1]:\n",
      "0.20 0.00 0.00 0.00 \n",
      "0.00 0.25 0.00 0.00 \n",
      "0.00 0.00 0.33 0.00 \n",
      "0.00 0.00 0.00 0.50 \n",
      "\n",
      " Verification of A*A[-1] = I(Identity matrix)\n",
      "1.00 0.00 0.00 0.00 \n",
      "0.00 1.00 0.00 0.00 \n",
      "0.00 0.00 1.00 0.00 \n",
      "0.00 0.00 0.00 1.00 \n",
      "Hence Inverse exists and verified!\n"
     ]
    }
   ],
   "metadata": {}
  },
  {
   "cell_type": "code",
   "execution_count": 54,
   "source": [
    "#Question 3\r\n",
    "#calling the augmented [A|b] matrix in readable form\r\n",
    "list_C=[]\r\n",
    "with open(\"matrix2.txt\") as matC:\r\n",
    "    for k in matC:\r\n",
    "        list_C.append(list(map(float, k.split())))\r\n",
    "\r\n",
    "\r\n",
    "#Printing the solutions of crout method #sarbajit mazumdar,1911147\r\n",
    "x1 = linear_solver_crout(list_C)\r\n",
    "if x1!=None:\r\n",
    "    print(\"x_1 =\", x1[0])\r\n",
    "    print(\"x_2 =\", x1[1])\r\n",
    "    print(\"x_3 =\", x1[2])\r\n",
    "    print(\"x_4 =\", x1[3])        \r\n",
    "\r\n",
    "#Verification\r\n",
    "print(\"\\nverification\")\r\n",
    "val=3*x1[0]-7*x1[1]-2*x1[2]+2*x1[3]\r\n",
    "print(\"\\nThe RHS of equation 1  IS coming out to be\",val)\r\n",
    "print(\"Hence the solutions are verified!\")    "
   ],
   "outputs": [
    {
     "output_type": "stream",
     "name": "stdout",
     "text": [
      "The solutions of the system of linear equations by Crout's method is\n",
      "x_1 = 3.0\n",
      "x_2 = 4.0\n",
      "x_3 = -6.0\n",
      "x_4 = -1.0\n",
      "\n",
      "verification\n",
      "\n",
      "The RHS of equation 1  IS coming out to be -9.0\n",
      "Hence the solutions are verified!\n"
     ]
    }
   ],
   "metadata": {}
  },
  {
   "cell_type": "code",
   "execution_count": 55,
   "source": [
    "\r\n",
    "#Question4\r\n",
    "\r\n",
    "\r\n",
    "from My_Lib import *\r\n",
    "\r\n",
    "import math\r\n",
    "import matplotlib.pyplot as plt\r\n",
    "\r\n",
    "# Function definition\r\n",
    "def f(x):\r\n",
    "    return 4*math.exp(-x)*math.sin(x)-1 #Given function #sarbajit mazumdar,1911147\r\n",
    "\r\n",
    "\r\n",
    "root_val_1, x_error_1,f_x_i_1, iterations_1 = bisection_method(f, 0, 1, 10**(-5))   #calling bisection function, braclet [0,1]\r\n",
    "root_val_2, x_error_2,f_x_i_2, iterations_2 = regula_falsi_method(f, 0, 1, 10**(-5)) #calling Regul falsi function, bracket [0,1]\r\n",
    "\r\n",
    "\r\n",
    "\r\n",
    "print(\"Root of the equation via Bisection Method is(upto 4 decimal places rounding): %.4f\"%root_val_1) #Printing root value for bisection\r\n",
    "print(\"Root of the equation via Regula Falsi Method is(upto 4 decimal places rounding): %.4f\"%root_val_2)#Printing root value for Regula Falsi\r\n",
    "\r\n",
    "\r\n",
    "\r\n",
    "###############################################################################\r\n",
    "\r\n",
    "#\r\n",
    "# MAKING TABLES FOR BOTH THE METHODS\r\n",
    "#  \r\n",
    "\r\n",
    "\r\n",
    "\r\n",
    "print (\"\\n------------Bisection Method--------------\")\r\n",
    "print(\"| |x_(i+1)-x_(i)\\t|\\ti\\t|\\t\")\r\n",
    "print (\"-----------------------------------------\")\r\n",
    "for i in range (1,len(iterations_1)):\r\n",
    "    print(\"|\\t%.5f\"%x_error_1[i],\"\\t|\\t\",iterations_1[i],\"\\t|\")\r\n",
    "    \r\n",
    "print (\"-----------------------------------------\")  \r\n",
    "\r\n",
    "print (\"------------Regula Falsi Method----------\")\r\n",
    "print(\"| |x_(i+1)-x_i\\t|\\t|\\ti\\t|\\t\")\r\n",
    "print (\"-----------------------------------------\")\r\n",
    "for i in range (1,len(iterations_2)):\r\n",
    "    print(\"|\\t%.11f\"%x_error_2[i],\"\\t|\\t\",iterations_2[i],\"\\t|\")\r\n",
    "    \r\n",
    "print (\"-----------------------------------------\")  \r\n",
    "\r\n",
    "############################################################################3\r\n",
    "\r\n",
    "#Plotting of Two methods:\r\n",
    "\r\n",
    "plt.plot(iterations_1, f_x_i_1,'m-o', label=\"Bisection Method\")\r\n",
    "plt.plot(iterations_2, f_x_i_2,'r-o' ,label=\"Regular Falsi Method\")\r\n",
    "\r\n",
    "plt.title(\"Convergence of functional value for Bisection and Regula Falsi Method\")\r\n",
    "plt.xlabel(\"Iterations  $i$\")\r\n",
    "plt.ylabel(\"functional value ($f(x_i)$)\")\r\n",
    "plt.legend()\r\n",
    "plt.grid()\r\n",
    "plt.show()\r\n",
    "\r\n",
    "# Removing zeroes from the lists \r\n",
    "iterations_2.remove(0)\r\n",
    "iterations_1.remove(0)\r\n",
    "x_error_2.remove(0)\r\n",
    "x_error_1.remove(0)\r\n",
    "\r\n",
    "# plotting convergence of roots\r\n",
    "\r\n",
    "plt.plot(iterations_1, x_error_1,'m-o', label=\"Bisection Method\")\r\n",
    "plt.plot(iterations_2, x_error_2,'r-o' ,label=\"Regular Falsi Method\")\r\n",
    "\r\n",
    "plt.title(\"Convergence of root for Bisection and Regula Falsi Method\")\r\n",
    "plt.xlabel(\"Iterations  $i$\")\r\n",
    "plt.ylabel(\"Absolute convergence $|x_{i+1}-x_{i}|$\")\r\n",
    "plt.legend()\r\n",
    "plt.grid()\r\n",
    "plt.show()"
   ],
   "outputs": [
    {
     "output_type": "stream",
     "name": "stdout",
     "text": [
      "Root of the equation via Bisection Method is(upto 4 decimal places rounding): 0.3706\n",
      "Root of the equation via Regula Falsi Method is(upto 4 decimal places rounding): 0.3706\n",
      "\n",
      "------------Bisection Method--------------\n",
      "| |x_(i+1)-x_(i)\t|\ti\t|\t\n",
      "-----------------------------------------\n",
      "|\t0.25000 \t|\t 1 \t|\n",
      "|\t0.12500 \t|\t 2 \t|\n",
      "|\t0.06250 \t|\t 3 \t|\n",
      "|\t0.03125 \t|\t 4 \t|\n",
      "|\t0.01562 \t|\t 5 \t|\n",
      "|\t0.00781 \t|\t 6 \t|\n",
      "|\t0.00391 \t|\t 7 \t|\n",
      "|\t0.00195 \t|\t 8 \t|\n",
      "|\t0.00098 \t|\t 9 \t|\n",
      "|\t0.00049 \t|\t 10 \t|\n",
      "|\t0.00024 \t|\t 11 \t|\n",
      "|\t0.00012 \t|\t 12 \t|\n",
      "|\t0.00006 \t|\t 13 \t|\n",
      "|\t0.00003 \t|\t 14 \t|\n",
      "|\t0.00002 \t|\t 15 \t|\n",
      "|\t0.00001 \t|\t 16 \t|\n",
      "-----------------------------------------\n",
      "------------Regula Falsi Method----------\n",
      "| |x_(i+1)-x_i\t|\t|\ti\t|\t\n",
      "-----------------------------------------\n",
      "|\t0.18104871698 \t|\t 1 \t|\n",
      "|\t0.12669555641 \t|\t 2 \t|\n",
      "|\t0.07005839543 \t|\t 3 \t|\n",
      "|\t0.03347011363 \t|\t 4 \t|\n",
      "|\t0.01482812595 \t|\t 5 \t|\n",
      "|\t0.00634439186 \t|\t 6 \t|\n",
      "|\t0.00267360110 \t|\t 7 \t|\n",
      "|\t0.00111943680 \t|\t 8 \t|\n",
      "|\t0.00046743846 \t|\t 9 \t|\n",
      "|\t0.00019496498 \t|\t 10 \t|\n",
      "|\t0.00008127990 \t|\t 11 \t|\n",
      "|\t0.00003387848 \t|\t 12 \t|\n",
      "|\t0.00001411982 \t|\t 13 \t|\n",
      "|\t0.00000588463 \t|\t 14 \t|\n",
      "|\t0.00000245247 \t|\t 15 \t|\n",
      "|\t0.00000102208 \t|\t 16 \t|\n",
      "|\t0.00000042596 \t|\t 17 \t|\n",
      "|\t0.00000017752 \t|\t 18 \t|\n",
      "|\t0.00000007398 \t|\t 19 \t|\n",
      "|\t0.00000003083 \t|\t 20 \t|\n",
      "|\t0.00000001285 \t|\t 21 \t|\n",
      "|\t0.00000000536 \t|\t 22 \t|\n",
      "|\t0.00000000223 \t|\t 23 \t|\n",
      "|\t0.00000000093 \t|\t 24 \t|\n",
      "|\t0.00000000039 \t|\t 25 \t|\n",
      "|\t0.00000000016 \t|\t 26 \t|\n",
      "|\t0.00000000007 \t|\t 27 \t|\n",
      "|\t0.00000000003 \t|\t 28 \t|\n",
      "|\t0.00000000001 \t|\t 29 \t|\n",
      "|\t0.00000000000 \t|\t 30 \t|\n",
      "|\t0.00000000000 \t|\t 31 \t|\n",
      "|\t0.00000000000 \t|\t 32 \t|\n",
      "|\t0.00000000000 \t|\t 33 \t|\n",
      "|\t0.00000000000 \t|\t 34 \t|\n",
      "|\t0.00000000000 \t|\t 35 \t|\n",
      "|\t0.00000000000 \t|\t 36 \t|\n",
      "|\t0.00000000000 \t|\t 37 \t|\n",
      "|\t0.00000000000 \t|\t 38 \t|\n",
      "|\t0.00000000000 \t|\t 39 \t|\n",
      "|\t0.00000000000 \t|\t 40 \t|\n",
      "|\t0.00000000000 \t|\t 41 \t|\n",
      "|\t0.00000000000 \t|\t 42 \t|\n",
      "|\t0.00000000000 \t|\t 43 \t|\n",
      "-----------------------------------------\n"
     ]
    },
    {
     "output_type": "display_data",
     "data": {
      "image/png": "[encoded data removed]",
      "text/plain": [
       "<Figure size 432x288 with 1 Axes>"
      ]
     },
     "metadata": {
      "needs_background": "light"
     }
    },
    {
     "output_type": "display_data",
     "data": {
      "image/png": "[encoded data removed]",
      "text/plain": [
       "<Figure size 432x288 with 1 Axes>"
      ]
     },
     "metadata": {
      "needs_background": "light"
     }
    }
   ],
   "metadata": {}
  }
 ],
 "metadata": {
  "orig_nbformat": 4,
  "language_info": {
   "name": "python",
   "version": "3.9.6",
   "mimetype": "text/x-python",
   "codemirror_mode": {
    "name": "ipython",
    "version": 3
   },
   "pygments_lexer": "ipython3",
   "nbconvert_exporter": "python",
   "file_extension": ".py"
  },
  "kernelspec": {
   "name": "python3",
   "display_name": "Python 3.9.6 64-bit"
  },
  "interpreter": {
   "hash": "dcacb0086e9a4f4eabd41c33bf4faac5ea0a3337ed3f5eff0680afa930572c04"
  }
 },
 "nbformat": 4,
 "nbformat_minor": 2
}